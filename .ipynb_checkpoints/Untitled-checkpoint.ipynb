{
 "cells": [
  {
   "cell_type": "code",
   "execution_count": 1,
   "metadata": {},
   "outputs": [],
   "source": [
    "import pandas as pd "
   ]
  },
  {
   "cell_type": "code",
   "execution_count": 2,
   "metadata": {},
   "outputs": [],
   "source": [
    "df = pd.read_csv('btc_jun_jul_14_2018.csv')"
   ]
  },
  {
   "cell_type": "code",
   "execution_count": 6,
   "metadata": {},
   "outputs": [
    {
     "data": {
      "text/html": [
       "<div>\n",
       "<style>\n",
       "    .dataframe thead tr:only-child th {\n",
       "        text-align: right;\n",
       "    }\n",
       "\n",
       "    .dataframe thead th {\n",
       "        text-align: left;\n",
       "    }\n",
       "\n",
       "    .dataframe tbody tr th {\n",
       "        vertical-align: top;\n",
       "    }\n",
       "</style>\n",
       "<table border=\"1\" class=\"dataframe\">\n",
       "  <thead>\n",
       "    <tr style=\"text-align: right;\">\n",
       "      <th></th>\n",
       "      <th>Fecha</th>\n",
       "      <th>Cierre</th>\n",
       "      <th>Apertura</th>\n",
       "      <th>Máximo</th>\n",
       "      <th>Mínimo</th>\n",
       "      <th>Vol.</th>\n",
       "      <th>% var.</th>\n",
       "    </tr>\n",
       "  </thead>\n",
       "  <tbody>\n",
       "    <tr>\n",
       "      <th>0</th>\n",
       "      <td>14.07.2018</td>\n",
       "      <td>6,235.1</td>\n",
       "      <td>6,219.7</td>\n",
       "      <td>6,287.0</td>\n",
       "      <td>6,179.3</td>\n",
       "      <td>14.45K</td>\n",
       "      <td>0.24%</td>\n",
       "    </tr>\n",
       "    <tr>\n",
       "      <th>1</th>\n",
       "      <td>13.07.2018</td>\n",
       "      <td>6,220.0</td>\n",
       "      <td>6,240.6</td>\n",
       "      <td>6,335.1</td>\n",
       "      <td>6,133.4</td>\n",
       "      <td>20.09K</td>\n",
       "      <td>-0.46%</td>\n",
       "    </tr>\n",
       "    <tr>\n",
       "      <th>2</th>\n",
       "      <td>12.07.2018</td>\n",
       "      <td>6,249.0</td>\n",
       "      <td>6,377.7</td>\n",
       "      <td>6,377.7</td>\n",
       "      <td>6,080.8</td>\n",
       "      <td>24.98K</td>\n",
       "      <td>-2.02%</td>\n",
       "    </tr>\n",
       "    <tr>\n",
       "      <th>3</th>\n",
       "      <td>11.07.2018</td>\n",
       "      <td>6,377.8</td>\n",
       "      <td>6,299.0</td>\n",
       "      <td>6,402.8</td>\n",
       "      <td>6,287.7</td>\n",
       "      <td>16.41K</td>\n",
       "      <td>1.21%</td>\n",
       "    </tr>\n",
       "    <tr>\n",
       "      <th>4</th>\n",
       "      <td>10.07.2018</td>\n",
       "      <td>6,301.5</td>\n",
       "      <td>6,666.9</td>\n",
       "      <td>6,680.1</td>\n",
       "      <td>6,269.3</td>\n",
       "      <td>28.02K</td>\n",
       "      <td>-5.48%</td>\n",
       "    </tr>\n",
       "  </tbody>\n",
       "</table>\n",
       "</div>"
      ],
      "text/plain": [
       "        Fecha   Cierre Apertura   Máximo   Mínimo    Vol.  % var.\n",
       "0  14.07.2018  6,235.1  6,219.7  6,287.0  6,179.3  14.45K   0.24%\n",
       "1  13.07.2018  6,220.0  6,240.6  6,335.1  6,133.4  20.09K  -0.46%\n",
       "2  12.07.2018  6,249.0  6,377.7  6,377.7  6,080.8  24.98K  -2.02%\n",
       "3  11.07.2018  6,377.8  6,299.0  6,402.8  6,287.7  16.41K   1.21%\n",
       "4  10.07.2018  6,301.5  6,666.9  6,680.1  6,269.3  28.02K  -5.48%"
      ]
     },
     "execution_count": 6,
     "metadata": {},
     "output_type": "execute_result"
    }
   ],
   "source": [
    "df.head()"
   ]
  },
  {
   "cell_type": "markdown",
   "metadata": {},
   "source": [
    "#### Reverse columns"
   ]
  },
  {
   "cell_type": "code",
   "execution_count": 8,
   "metadata": {},
   "outputs": [],
   "source": [
    "df = pd.read_csv('btc_jun_jul_14_2018.csv').loc[::-1]"
   ]
  },
  {
   "cell_type": "code",
   "execution_count": 9,
   "metadata": {},
   "outputs": [
    {
     "data": {
      "text/html": [
       "<div>\n",
       "<style>\n",
       "    .dataframe thead tr:only-child th {\n",
       "        text-align: right;\n",
       "    }\n",
       "\n",
       "    .dataframe thead th {\n",
       "        text-align: left;\n",
       "    }\n",
       "\n",
       "    .dataframe tbody tr th {\n",
       "        vertical-align: top;\n",
       "    }\n",
       "</style>\n",
       "<table border=\"1\" class=\"dataframe\">\n",
       "  <thead>\n",
       "    <tr style=\"text-align: right;\">\n",
       "      <th></th>\n",
       "      <th>Fecha</th>\n",
       "      <th>Cierre</th>\n",
       "      <th>Apertura</th>\n",
       "      <th>Máximo</th>\n",
       "      <th>Mínimo</th>\n",
       "      <th>Vol.</th>\n",
       "      <th>% var.</th>\n",
       "    </tr>\n",
       "  </thead>\n",
       "  <tbody>\n",
       "    <tr>\n",
       "      <th>43</th>\n",
       "      <td>01.06.2018</td>\n",
       "      <td>7,521.0</td>\n",
       "      <td>7,485.9</td>\n",
       "      <td>7,599.8</td>\n",
       "      <td>7,344.8</td>\n",
       "      <td>19.04K</td>\n",
       "      <td>0.47%</td>\n",
       "    </tr>\n",
       "    <tr>\n",
       "      <th>42</th>\n",
       "      <td>02.06.2018</td>\n",
       "      <td>7,638.1</td>\n",
       "      <td>7,521.1</td>\n",
       "      <td>7,691.2</td>\n",
       "      <td>7,445.5</td>\n",
       "      <td>17.36K</td>\n",
       "      <td>1.56%</td>\n",
       "    </tr>\n",
       "    <tr>\n",
       "      <th>41</th>\n",
       "      <td>03.06.2018</td>\n",
       "      <td>7,718.0</td>\n",
       "      <td>7,639.0</td>\n",
       "      <td>7,777.4</td>\n",
       "      <td>7,600.0</td>\n",
       "      <td>13.80K</td>\n",
       "      <td>1.05%</td>\n",
       "    </tr>\n",
       "    <tr>\n",
       "      <th>40</th>\n",
       "      <td>04.06.2018</td>\n",
       "      <td>7,488.3</td>\n",
       "      <td>7,718.0</td>\n",
       "      <td>7,761.5</td>\n",
       "      <td>7,457.5</td>\n",
       "      <td>18.13K</td>\n",
       "      <td>-2.98%</td>\n",
       "    </tr>\n",
       "    <tr>\n",
       "      <th>39</th>\n",
       "      <td>05.06.2018</td>\n",
       "      <td>7,621.7</td>\n",
       "      <td>7,487.9</td>\n",
       "      <td>7,669.0</td>\n",
       "      <td>7,372.9</td>\n",
       "      <td>16.84K</td>\n",
       "      <td>1.78%</td>\n",
       "    </tr>\n",
       "  </tbody>\n",
       "</table>\n",
       "</div>"
      ],
      "text/plain": [
       "         Fecha   Cierre Apertura   Máximo   Mínimo    Vol.  % var.\n",
       "43  01.06.2018  7,521.0  7,485.9  7,599.8  7,344.8  19.04K   0.47%\n",
       "42  02.06.2018  7,638.1  7,521.1  7,691.2  7,445.5  17.36K   1.56%\n",
       "41  03.06.2018  7,718.0  7,639.0  7,777.4  7,600.0  13.80K   1.05%\n",
       "40  04.06.2018  7,488.3  7,718.0  7,761.5  7,457.5  18.13K  -2.98%\n",
       "39  05.06.2018  7,621.7  7,487.9  7,669.0  7,372.9  16.84K   1.78%"
      ]
     },
     "execution_count": 9,
     "metadata": {},
     "output_type": "execute_result"
    }
   ],
   "source": [
    "df.head()"
   ]
  },
  {
   "cell_type": "code",
   "execution_count": 7,
   "metadata": {},
   "outputs": [],
   "source": [
    "float_format = lambda x: float(x.replace(',', ''))"
   ]
  },
  {
   "cell_type": "code",
   "execution_count": null,
   "metadata": {},
   "outputs": [],
   "source": []
  },
  {
   "cell_type": "code",
   "execution_count": null,
   "metadata": {
    "collapsed": true
   },
   "outputs": [],
   "source": [
    "df[['Close', 'Open', 'Max', 'Min']] = "
   ]
  }
 ],
 "metadata": {
  "kernelspec": {
   "display_name": "Python 3",
   "language": "python",
   "name": "python3"
  },
  "language_info": {
   "codemirror_mode": {
    "name": "ipython",
    "version": 3
   },
   "file_extension": ".py",
   "mimetype": "text/x-python",
   "name": "python",
   "nbconvert_exporter": "python",
   "pygments_lexer": "ipython3",
   "version": "3.5.2"
  }
 },
 "nbformat": 4,
 "nbformat_minor": 2
}
