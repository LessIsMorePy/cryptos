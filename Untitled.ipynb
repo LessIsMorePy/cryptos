{
 "cells": [
  {
   "cell_type": "code",
   "execution_count": 1,
   "metadata": {},
   "outputs": [],
   "source": [
    "import numpy as np\n",
    "import pandas as pd \n",
    "from sklearn.linear_model import LinearRegression\n",
    "from sklearn.model_selection import train_test_split\n",
    "from sklearn.model_selection import cross_val_score\n",
    "import matplotlib.pyplot as plt"
   ]
  },
  {
   "cell_type": "code",
   "execution_count": 2,
   "metadata": {},
   "outputs": [],
   "source": [
    "df = pd.read_csv('btc_jun_jul_14_2018.csv')"
   ]
  },
  {
   "cell_type": "code",
   "execution_count": 3,
   "metadata": {},
   "outputs": [
    {
     "data": {
      "text/html": [
       "<div>\n",
       "<style>\n",
       "    .dataframe thead tr:only-child th {\n",
       "        text-align: right;\n",
       "    }\n",
       "\n",
       "    .dataframe thead th {\n",
       "        text-align: left;\n",
       "    }\n",
       "\n",
       "    .dataframe tbody tr th {\n",
       "        vertical-align: top;\n",
       "    }\n",
       "</style>\n",
       "<table border=\"1\" class=\"dataframe\">\n",
       "  <thead>\n",
       "    <tr style=\"text-align: right;\">\n",
       "      <th></th>\n",
       "      <th>Fecha</th>\n",
       "      <th>Cierre</th>\n",
       "      <th>Apertura</th>\n",
       "      <th>Máximo</th>\n",
       "      <th>Mínimo</th>\n",
       "      <th>Vol.</th>\n",
       "      <th>% var.</th>\n",
       "    </tr>\n",
       "  </thead>\n",
       "  <tbody>\n",
       "    <tr>\n",
       "      <th>0</th>\n",
       "      <td>14.07.2018</td>\n",
       "      <td>6,235.1</td>\n",
       "      <td>6,219.7</td>\n",
       "      <td>6,287.0</td>\n",
       "      <td>6,179.3</td>\n",
       "      <td>14.45K</td>\n",
       "      <td>0.24%</td>\n",
       "    </tr>\n",
       "    <tr>\n",
       "      <th>1</th>\n",
       "      <td>13.07.2018</td>\n",
       "      <td>6,220.0</td>\n",
       "      <td>6,240.6</td>\n",
       "      <td>6,335.1</td>\n",
       "      <td>6,133.4</td>\n",
       "      <td>20.09K</td>\n",
       "      <td>-0.46%</td>\n",
       "    </tr>\n",
       "    <tr>\n",
       "      <th>2</th>\n",
       "      <td>12.07.2018</td>\n",
       "      <td>6,249.0</td>\n",
       "      <td>6,377.7</td>\n",
       "      <td>6,377.7</td>\n",
       "      <td>6,080.8</td>\n",
       "      <td>24.98K</td>\n",
       "      <td>-2.02%</td>\n",
       "    </tr>\n",
       "    <tr>\n",
       "      <th>3</th>\n",
       "      <td>11.07.2018</td>\n",
       "      <td>6,377.8</td>\n",
       "      <td>6,299.0</td>\n",
       "      <td>6,402.8</td>\n",
       "      <td>6,287.7</td>\n",
       "      <td>16.41K</td>\n",
       "      <td>1.21%</td>\n",
       "    </tr>\n",
       "    <tr>\n",
       "      <th>4</th>\n",
       "      <td>10.07.2018</td>\n",
       "      <td>6,301.5</td>\n",
       "      <td>6,666.9</td>\n",
       "      <td>6,680.1</td>\n",
       "      <td>6,269.3</td>\n",
       "      <td>28.02K</td>\n",
       "      <td>-5.48%</td>\n",
       "    </tr>\n",
       "  </tbody>\n",
       "</table>\n",
       "</div>"
      ],
      "text/plain": [
       "        Fecha   Cierre Apertura   Máximo   Mínimo    Vol.  % var.\n",
       "0  14.07.2018  6,235.1  6,219.7  6,287.0  6,179.3  14.45K   0.24%\n",
       "1  13.07.2018  6,220.0  6,240.6  6,335.1  6,133.4  20.09K  -0.46%\n",
       "2  12.07.2018  6,249.0  6,377.7  6,377.7  6,080.8  24.98K  -2.02%\n",
       "3  11.07.2018  6,377.8  6,299.0  6,402.8  6,287.7  16.41K   1.21%\n",
       "4  10.07.2018  6,301.5  6,666.9  6,680.1  6,269.3  28.02K  -5.48%"
      ]
     },
     "execution_count": 3,
     "metadata": {},
     "output_type": "execute_result"
    }
   ],
   "source": [
    "df.head()"
   ]
  },
  {
   "cell_type": "markdown",
   "metadata": {},
   "source": [
    "#### Reverse columns"
   ]
  },
  {
   "cell_type": "code",
   "execution_count": 4,
   "metadata": {},
   "outputs": [],
   "source": [
    "df = pd.read_csv('btc_jun_jul_14_2018.csv').loc[::-1]"
   ]
  },
  {
   "cell_type": "code",
   "execution_count": 5,
   "metadata": {
    "scrolled": true
   },
   "outputs": [
    {
     "data": {
      "text/html": [
       "<div>\n",
       "<style>\n",
       "    .dataframe thead tr:only-child th {\n",
       "        text-align: right;\n",
       "    }\n",
       "\n",
       "    .dataframe thead th {\n",
       "        text-align: left;\n",
       "    }\n",
       "\n",
       "    .dataframe tbody tr th {\n",
       "        vertical-align: top;\n",
       "    }\n",
       "</style>\n",
       "<table border=\"1\" class=\"dataframe\">\n",
       "  <thead>\n",
       "    <tr style=\"text-align: right;\">\n",
       "      <th></th>\n",
       "      <th>Fecha</th>\n",
       "      <th>Cierre</th>\n",
       "      <th>Apertura</th>\n",
       "      <th>Máximo</th>\n",
       "      <th>Mínimo</th>\n",
       "      <th>Vol.</th>\n",
       "      <th>% var.</th>\n",
       "    </tr>\n",
       "  </thead>\n",
       "  <tbody>\n",
       "    <tr>\n",
       "      <th>43</th>\n",
       "      <td>01.06.2018</td>\n",
       "      <td>7,521.0</td>\n",
       "      <td>7,485.9</td>\n",
       "      <td>7,599.8</td>\n",
       "      <td>7,344.8</td>\n",
       "      <td>19.04K</td>\n",
       "      <td>0.47%</td>\n",
       "    </tr>\n",
       "    <tr>\n",
       "      <th>42</th>\n",
       "      <td>02.06.2018</td>\n",
       "      <td>7,638.1</td>\n",
       "      <td>7,521.1</td>\n",
       "      <td>7,691.2</td>\n",
       "      <td>7,445.5</td>\n",
       "      <td>17.36K</td>\n",
       "      <td>1.56%</td>\n",
       "    </tr>\n",
       "    <tr>\n",
       "      <th>41</th>\n",
       "      <td>03.06.2018</td>\n",
       "      <td>7,718.0</td>\n",
       "      <td>7,639.0</td>\n",
       "      <td>7,777.4</td>\n",
       "      <td>7,600.0</td>\n",
       "      <td>13.80K</td>\n",
       "      <td>1.05%</td>\n",
       "    </tr>\n",
       "    <tr>\n",
       "      <th>40</th>\n",
       "      <td>04.06.2018</td>\n",
       "      <td>7,488.3</td>\n",
       "      <td>7,718.0</td>\n",
       "      <td>7,761.5</td>\n",
       "      <td>7,457.5</td>\n",
       "      <td>18.13K</td>\n",
       "      <td>-2.98%</td>\n",
       "    </tr>\n",
       "    <tr>\n",
       "      <th>39</th>\n",
       "      <td>05.06.2018</td>\n",
       "      <td>7,621.7</td>\n",
       "      <td>7,487.9</td>\n",
       "      <td>7,669.0</td>\n",
       "      <td>7,372.9</td>\n",
       "      <td>16.84K</td>\n",
       "      <td>1.78%</td>\n",
       "    </tr>\n",
       "  </tbody>\n",
       "</table>\n",
       "</div>"
      ],
      "text/plain": [
       "         Fecha   Cierre Apertura   Máximo   Mínimo    Vol.  % var.\n",
       "43  01.06.2018  7,521.0  7,485.9  7,599.8  7,344.8  19.04K   0.47%\n",
       "42  02.06.2018  7,638.1  7,521.1  7,691.2  7,445.5  17.36K   1.56%\n",
       "41  03.06.2018  7,718.0  7,639.0  7,777.4  7,600.0  13.80K   1.05%\n",
       "40  04.06.2018  7,488.3  7,718.0  7,761.5  7,457.5  18.13K  -2.98%\n",
       "39  05.06.2018  7,621.7  7,487.9  7,669.0  7,372.9  16.84K   1.78%"
      ]
     },
     "execution_count": 5,
     "metadata": {},
     "output_type": "execute_result"
    }
   ],
   "source": [
    "df.head()"
   ]
  },
  {
   "cell_type": "code",
   "execution_count": 26,
   "metadata": {},
   "outputs": [
    {
     "data": {
      "text/html": [
       "<div>\n",
       "<style>\n",
       "    .dataframe thead tr:only-child th {\n",
       "        text-align: right;\n",
       "    }\n",
       "\n",
       "    .dataframe thead th {\n",
       "        text-align: left;\n",
       "    }\n",
       "\n",
       "    .dataframe tbody tr th {\n",
       "        vertical-align: top;\n",
       "    }\n",
       "</style>\n",
       "<table border=\"1\" class=\"dataframe\">\n",
       "  <thead>\n",
       "    <tr style=\"text-align: right;\">\n",
       "      <th></th>\n",
       "      <th>Fecha</th>\n",
       "      <th>Cierre</th>\n",
       "      <th>Apertura</th>\n",
       "      <th>Máximo</th>\n",
       "      <th>Mínimo</th>\n",
       "      <th>Vol.</th>\n",
       "      <th>% var.</th>\n",
       "    </tr>\n",
       "  </thead>\n",
       "  <tbody>\n",
       "    <tr>\n",
       "      <th>4</th>\n",
       "      <td>10.07.2018</td>\n",
       "      <td>6,301.5</td>\n",
       "      <td>6,666.9</td>\n",
       "      <td>6,680.1</td>\n",
       "      <td>6,269.3</td>\n",
       "      <td>28.02K</td>\n",
       "      <td>-5.48%</td>\n",
       "    </tr>\n",
       "    <tr>\n",
       "      <th>3</th>\n",
       "      <td>11.07.2018</td>\n",
       "      <td>6,377.8</td>\n",
       "      <td>6,299.0</td>\n",
       "      <td>6,402.8</td>\n",
       "      <td>6,287.7</td>\n",
       "      <td>16.41K</td>\n",
       "      <td>1.21%</td>\n",
       "    </tr>\n",
       "    <tr>\n",
       "      <th>2</th>\n",
       "      <td>12.07.2018</td>\n",
       "      <td>6,249.0</td>\n",
       "      <td>6,377.7</td>\n",
       "      <td>6,377.7</td>\n",
       "      <td>6,080.8</td>\n",
       "      <td>24.98K</td>\n",
       "      <td>-2.02%</td>\n",
       "    </tr>\n",
       "    <tr>\n",
       "      <th>1</th>\n",
       "      <td>13.07.2018</td>\n",
       "      <td>6,220.0</td>\n",
       "      <td>6,240.6</td>\n",
       "      <td>6,335.1</td>\n",
       "      <td>6,133.4</td>\n",
       "      <td>20.09K</td>\n",
       "      <td>-0.46%</td>\n",
       "    </tr>\n",
       "    <tr>\n",
       "      <th>0</th>\n",
       "      <td>14.07.2018</td>\n",
       "      <td>6,235.1</td>\n",
       "      <td>6,219.7</td>\n",
       "      <td>6,287.0</td>\n",
       "      <td>6,179.3</td>\n",
       "      <td>14.45K</td>\n",
       "      <td>0.24%</td>\n",
       "    </tr>\n",
       "  </tbody>\n",
       "</table>\n",
       "</div>"
      ],
      "text/plain": [
       "        Fecha   Cierre Apertura   Máximo   Mínimo    Vol.  % var.\n",
       "4  10.07.2018  6,301.5  6,666.9  6,680.1  6,269.3  28.02K  -5.48%\n",
       "3  11.07.2018  6,377.8  6,299.0  6,402.8  6,287.7  16.41K   1.21%\n",
       "2  12.07.2018  6,249.0  6,377.7  6,377.7  6,080.8  24.98K  -2.02%\n",
       "1  13.07.2018  6,220.0  6,240.6  6,335.1  6,133.4  20.09K  -0.46%\n",
       "0  14.07.2018  6,235.1  6,219.7  6,287.0  6,179.3  14.45K   0.24%"
      ]
     },
     "execution_count": 26,
     "metadata": {},
     "output_type": "execute_result"
    }
   ],
   "source": [
    "df.tail()"
   ]
  },
  {
   "cell_type": "code",
   "execution_count": 6,
   "metadata": {},
   "outputs": [],
   "source": [
    "float_format = lambda x: float(x.replace(',', ''))"
   ]
  },
  {
   "cell_type": "code",
   "execution_count": 7,
   "metadata": {},
   "outputs": [],
   "source": [
    "new_data = {'close': df['Cierre'].apply(float_format),\n",
    "           'Open': df['Apertura'].apply(float_format),\n",
    "           'Max': df['Máximo'].apply(float_format),\n",
    "           'Min': df['Mínimo'].apply(float_format)}"
   ]
  },
  {
   "cell_type": "code",
   "execution_count": 8,
   "metadata": {},
   "outputs": [],
   "source": [
    "new_df = pd.DataFrame(new_data)"
   ]
  },
  {
   "cell_type": "code",
   "execution_count": 9,
   "metadata": {},
   "outputs": [
    {
     "data": {
      "text/html": [
       "<div>\n",
       "<style>\n",
       "    .dataframe thead tr:only-child th {\n",
       "        text-align: right;\n",
       "    }\n",
       "\n",
       "    .dataframe thead th {\n",
       "        text-align: left;\n",
       "    }\n",
       "\n",
       "    .dataframe tbody tr th {\n",
       "        vertical-align: top;\n",
       "    }\n",
       "</style>\n",
       "<table border=\"1\" class=\"dataframe\">\n",
       "  <thead>\n",
       "    <tr style=\"text-align: right;\">\n",
       "      <th></th>\n",
       "      <th>Max</th>\n",
       "      <th>Min</th>\n",
       "      <th>Open</th>\n",
       "      <th>close</th>\n",
       "    </tr>\n",
       "  </thead>\n",
       "  <tbody>\n",
       "    <tr>\n",
       "      <th>43</th>\n",
       "      <td>7599.8</td>\n",
       "      <td>7344.8</td>\n",
       "      <td>7485.9</td>\n",
       "      <td>7521.0</td>\n",
       "    </tr>\n",
       "    <tr>\n",
       "      <th>42</th>\n",
       "      <td>7691.2</td>\n",
       "      <td>7445.5</td>\n",
       "      <td>7521.1</td>\n",
       "      <td>7638.1</td>\n",
       "    </tr>\n",
       "    <tr>\n",
       "      <th>41</th>\n",
       "      <td>7777.4</td>\n",
       "      <td>7600.0</td>\n",
       "      <td>7639.0</td>\n",
       "      <td>7718.0</td>\n",
       "    </tr>\n",
       "    <tr>\n",
       "      <th>40</th>\n",
       "      <td>7761.5</td>\n",
       "      <td>7457.5</td>\n",
       "      <td>7718.0</td>\n",
       "      <td>7488.3</td>\n",
       "    </tr>\n",
       "    <tr>\n",
       "      <th>39</th>\n",
       "      <td>7669.0</td>\n",
       "      <td>7372.9</td>\n",
       "      <td>7487.9</td>\n",
       "      <td>7621.7</td>\n",
       "    </tr>\n",
       "  </tbody>\n",
       "</table>\n",
       "</div>"
      ],
      "text/plain": [
       "       Max     Min    Open   close\n",
       "43  7599.8  7344.8  7485.9  7521.0\n",
       "42  7691.2  7445.5  7521.1  7638.1\n",
       "41  7777.4  7600.0  7639.0  7718.0\n",
       "40  7761.5  7457.5  7718.0  7488.3\n",
       "39  7669.0  7372.9  7487.9  7621.7"
      ]
     },
     "execution_count": 9,
     "metadata": {},
     "output_type": "execute_result"
    }
   ],
   "source": [
    "new_df.head()"
   ]
  },
  {
   "cell_type": "markdown",
   "metadata": {},
   "source": [
    "### Labels and target"
   ]
  },
  {
   "cell_type": "code",
   "execution_count": 10,
   "metadata": {},
   "outputs": [],
   "source": [
    "y = new_df.values\n",
    "y_plot = new_df.close"
   ]
  },
  {
   "cell_type": "code",
   "execution_count": 11,
   "metadata": {},
   "outputs": [],
   "source": [
    "X = np.arange(len(y)).reshape(-1, 1)"
   ]
  },
  {
   "cell_type": "markdown",
   "metadata": {},
   "source": [
    "### Plot"
   ]
  },
  {
   "cell_type": "code",
   "execution_count": 12,
   "metadata": {},
   "outputs": [
    {
     "data": {
      "image/png": "[encoded data removed]",
      "text/plain": [
       "<matplotlib.figure.Figure at 0x7f1a17d1bc18>"
      ]
     },
     "metadata": {},
     "output_type": "display_data"
    }
   ],
   "source": [
    "plt.scatter(X, y_plot, label='BTC Close price')\n",
    "plt.legend()\n",
    "plt.show()"
   ]
  },
  {
   "cell_type": "markdown",
   "metadata": {},
   "source": [
    "### Train and test data"
   ]
  },
  {
   "cell_type": "code",
   "execution_count": 13,
   "metadata": {},
   "outputs": [],
   "source": [
    "X_train, X_test, y_train, y_test = train_test_split(X, y, test_size=0.3, random_state=42)"
   ]
  },
  {
   "cell_type": "markdown",
   "metadata": {},
   "source": [
    "### Applying  model "
   ]
  },
  {
   "cell_type": "code",
   "execution_count": 14,
   "metadata": {},
   "outputs": [],
   "source": [
    "from sklearn.neighbors import KNeighborsRegressor"
   ]
  },
  {
   "cell_type": "code",
   "execution_count": 100,
   "metadata": {},
   "outputs": [],
   "source": [
    "knn = KNeighborsRegressor(n_neighbors=2)"
   ]
  },
  {
   "cell_type": "code",
   "execution_count": 101,
   "metadata": {},
   "outputs": [
    {
     "data": {
      "text/plain": [
       "KNeighborsRegressor(algorithm='auto', leaf_size=30, metric='minkowski',\n",
       "          metric_params=None, n_jobs=1, n_neighbors=2, p=2,\n",
       "          weights='uniform')"
      ]
     },
     "execution_count": 101,
     "metadata": {},
     "output_type": "execute_result"
    }
   ],
   "source": [
    "knn.fit(X_train, y_train)"
   ]
  },
  {
   "cell_type": "code",
   "execution_count": 102,
   "metadata": {},
   "outputs": [],
   "source": [
    "y_pred = knn.predict(X_test)"
   ]
  },
  {
   "cell_type": "code",
   "execution_count": 103,
   "metadata": {},
   "outputs": [
    {
     "data": {
      "text/plain": [
       "0.93627006352221465"
      ]
     },
     "execution_count": 103,
     "metadata": {},
     "output_type": "execute_result"
    }
   ],
   "source": [
    "knn.score(X_test, y_test)"
   ]
  },
  {
   "cell_type": "code",
   "execution_count": 104,
   "metadata": {},
   "outputs": [
    {
     "data": {
      "text/plain": [
       "array([[ 6311.05,  6156.35,  6230.15,  6227.55]])"
      ]
     },
     "execution_count": 104,
     "metadata": {},
     "output_type": "execute_result"
    }
   ],
   "source": [
    "knn.predict(44)"
   ]
  },
  {
   "cell_type": "markdown",
   "metadata": {},
   "source": [
    "### Plot with y_predicted"
   ]
  },
  {
   "cell_type": "code",
   "execution_count": 105,
   "metadata": {},
   "outputs": [
    {
     "data": {
      "text/plain": [
       "array([[ 6750.05,  6443.2 ,  6686.4 ,  6484.1 ],\n",
       "       [ 6215.55,  5875.95,  6112.7 ,  6140.55],\n",
       "       [ 6215.55,  5875.95,  6112.7 ,  6140.55],\n",
       "       [ 6728.45,  6535.  ,  6618.75,  6634.4 ],\n",
       "       [ 6707.6 ,  6435.8 ,  6520.3 ,  6596.05],\n",
       "       [ 6528.9 ,  6175.05,  6522.3 ,  6275.25],\n",
       "       [ 7737.7 ,  7547.6 ,  7630.45,  7686.  ],\n",
       "       [ 6788.3 ,  6355.25,  6584.15,  6588.8 ],\n",
       "       [ 7597.55,  7088.95,  7591.9 ,  7186.2 ],\n",
       "       [ 7737.7 ,  7547.6 ,  7630.45,  7686.  ],\n",
       "       [ 7697.5 ,  7519.6 ,  7653.8 ,  7634.55],\n",
       "       [ 6227.2 ,  5885.95,  5960.8 ,  6170.6 ],\n",
       "       [ 6553.7 ,  6365.35,  6504.55,  6424.85],\n",
       "       [ 6810.  ,  6673.15,  6735.8 ,  6725.5 ]])"
      ]
     },
     "execution_count": 105,
     "metadata": {},
     "output_type": "execute_result"
    }
   ],
   "source": [
    "y_pred"
   ]
  },
  {
   "cell_type": "code",
   "execution_count": 106,
   "metadata": {},
   "outputs": [
    {
     "data": {
      "image/png": "[encoded data removed]",
      "text/plain": [
       "<matplotlib.figure.Figure at 0x7f1a15022630>"
      ]
     },
     "metadata": {},
     "output_type": "display_data"
    }
   ],
   "source": [
    "plt.scatter(X, y_plot, label='BTC Close price', alpha=0.4)\n",
    "plt.scatter(X_test, y_pred[:,3])\n",
    "plt.legend()\n",
    "plt.show()"
   ]
  },
  {
   "cell_type": "code",
   "execution_count": 110,
   "metadata": {},
   "outputs": [],
   "source": [
    "X_test2 = np.linspace(0, 45).reshape(-1, 1)"
   ]
  },
  {
   "cell_type": "code",
   "execution_count": 111,
   "metadata": {},
   "outputs": [],
   "source": [
    "y_pred = knn.predict(X_test2)"
   ]
  },
  {
   "cell_type": "code",
   "execution_count": 113,
   "metadata": {},
   "outputs": [
    {
     "data": {
      "image/png": "[encoded data removed]",
      "text/plain": [
       "<matplotlib.figure.Figure at 0x7f1a153bf198>"
      ]
     },
     "metadata": {},
     "output_type": "display_data"
    }
   ],
   "source": [
    "plt.scatter(X, y_plot, label='BTC Close price', alpha=0.5)\n",
    "plt.plot(X_test2, y_pred[:,3], color='red')\n",
    "plt.legend()\n",
    "plt.show()"
   ]
  },
  {
   "cell_type": "code",
   "execution_count": null,
   "metadata": {},
   "outputs": [],
   "source": []
  }
 ],
 "metadata": {
  "kernelspec": {
   "display_name": "Python 3",
   "language": "python",
   "name": "python3"
  },
  "language_info": {
   "codemirror_mode": {
    "name": "ipython",
    "version": 3
   },
   "file_extension": ".py",
   "mimetype": "text/x-python",
   "name": "python",
   "nbconvert_exporter": "python",
   "pygments_lexer": "ipython3",
   "version": "3.5.2"
  }
 },
 "nbformat": 4,
 "nbformat_minor": 2
}
