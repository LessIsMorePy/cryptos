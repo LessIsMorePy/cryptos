{
 "cells": [
  {
   "cell_type": "markdown",
   "metadata": {},
   "source": [
    "# Modules"
   ]
  },
  {
   "cell_type": "code",
   "execution_count": 340,
   "metadata": {},
   "outputs": [],
   "source": [
    "import numpy as np\n",
    "import pandas as pd\n",
    "import matplotlib.pyplot as plt\n",
    "from sklearn.linear_model import Ridge\n",
    "from sklearn.preprocessing import PolynomialFeatures\n",
    "from sklearn.pipeline import make_pipeline\n",
    "from sklearn.model_selection import train_test_split\n",
    "import seaborn as sns\n",
    "sns.set()"
   ]
  },
  {
   "cell_type": "markdown",
   "metadata": {},
   "source": [
    "# DataFrame"
   ]
  },
  {
   "cell_type": "code",
   "execution_count": 396,
   "metadata": {},
   "outputs": [],
   "source": [
    "df_xrp = pd.read_csv('XRP.csv', index_col='Date').loc[::-1]"
   ]
  },
  {
   "cell_type": "code",
   "execution_count": 397,
   "metadata": {},
   "outputs": [
    {
     "data": {
      "text/html": [
       "<div>\n",
       "<style>\n",
       "    .dataframe thead tr:only-child th {\n",
       "        text-align: right;\n",
       "    }\n",
       "\n",
       "    .dataframe thead th {\n",
       "        text-align: left;\n",
       "    }\n",
       "\n",
       "    .dataframe tbody tr th {\n",
       "        vertical-align: top;\n",
       "    }\n",
       "</style>\n",
       "<table border=\"1\" class=\"dataframe\">\n",
       "  <thead>\n",
       "    <tr style=\"text-align: right;\">\n",
       "      <th></th>\n",
       "      <th>Price</th>\n",
       "      <th>Open</th>\n",
       "      <th>High</th>\n",
       "      <th>Low</th>\n",
       "      <th>Vol.</th>\n",
       "      <th>Change %</th>\n",
       "    </tr>\n",
       "    <tr>\n",
       "      <th>Date</th>\n",
       "      <th></th>\n",
       "      <th></th>\n",
       "      <th></th>\n",
       "      <th></th>\n",
       "      <th></th>\n",
       "      <th></th>\n",
       "    </tr>\n",
       "  </thead>\n",
       "  <tbody>\n",
       "    <tr>\n",
       "      <th>Jan 01, 2017</th>\n",
       "      <td>0.00635</td>\n",
       "      <td>0.00651</td>\n",
       "      <td>0.00660</td>\n",
       "      <td>0.00626</td>\n",
       "      <td>189.01K</td>\n",
       "      <td>-2.53%</td>\n",
       "    </tr>\n",
       "    <tr>\n",
       "      <th>Jan 02, 2017</th>\n",
       "      <td>0.00631</td>\n",
       "      <td>0.00635</td>\n",
       "      <td>0.00642</td>\n",
       "      <td>0.00621</td>\n",
       "      <td>554.90K</td>\n",
       "      <td>-0.54%</td>\n",
       "    </tr>\n",
       "    <tr>\n",
       "      <th>Jan 03, 2017</th>\n",
       "      <td>0.00641</td>\n",
       "      <td>0.00631</td>\n",
       "      <td>0.00657</td>\n",
       "      <td>0.00622</td>\n",
       "      <td>1.82M</td>\n",
       "      <td>1.57%</td>\n",
       "    </tr>\n",
       "    <tr>\n",
       "      <th>Jan 04, 2017</th>\n",
       "      <td>0.00641</td>\n",
       "      <td>0.00641</td>\n",
       "      <td>0.00684</td>\n",
       "      <td>0.00637</td>\n",
       "      <td>888.03K</td>\n",
       "      <td>0.00%</td>\n",
       "    </tr>\n",
       "    <tr>\n",
       "      <th>Jan 05, 2017</th>\n",
       "      <td>0.00628</td>\n",
       "      <td>0.00641</td>\n",
       "      <td>0.00689</td>\n",
       "      <td>0.00565</td>\n",
       "      <td>9.61M</td>\n",
       "      <td>-2.09%</td>\n",
       "    </tr>\n",
       "  </tbody>\n",
       "</table>\n",
       "</div>"
      ],
      "text/plain": [
       "                Price     Open     High      Low     Vol. Change %\n",
       "Date                                                              \n",
       "Jan 01, 2017  0.00635  0.00651  0.00660  0.00626  189.01K   -2.53%\n",
       "Jan 02, 2017  0.00631  0.00635  0.00642  0.00621  554.90K   -0.54%\n",
       "Jan 03, 2017  0.00641  0.00631  0.00657  0.00622    1.82M    1.57%\n",
       "Jan 04, 2017  0.00641  0.00641  0.00684  0.00637  888.03K    0.00%\n",
       "Jan 05, 2017  0.00628  0.00641  0.00689  0.00565    9.61M   -2.09%"
      ]
     },
     "execution_count": 397,
     "metadata": {},
     "output_type": "execute_result"
    }
   ],
   "source": [
    "df_xrp.head()"
   ]
  },
  {
   "cell_type": "code",
   "execution_count": 398,
   "metadata": {
    "scrolled": true
   },
   "outputs": [
    {
     "data": {
      "text/html": [
       "<div>\n",
       "<style>\n",
       "    .dataframe thead tr:only-child th {\n",
       "        text-align: right;\n",
       "    }\n",
       "\n",
       "    .dataframe thead th {\n",
       "        text-align: left;\n",
       "    }\n",
       "\n",
       "    .dataframe tbody tr th {\n",
       "        vertical-align: top;\n",
       "    }\n",
       "</style>\n",
       "<table border=\"1\" class=\"dataframe\">\n",
       "  <thead>\n",
       "    <tr style=\"text-align: right;\">\n",
       "      <th></th>\n",
       "      <th>Price</th>\n",
       "      <th>Open</th>\n",
       "      <th>High</th>\n",
       "      <th>Low</th>\n",
       "      <th>Vol.</th>\n",
       "      <th>Change %</th>\n",
       "    </tr>\n",
       "    <tr>\n",
       "      <th>Date</th>\n",
       "      <th></th>\n",
       "      <th></th>\n",
       "      <th></th>\n",
       "      <th></th>\n",
       "      <th></th>\n",
       "      <th></th>\n",
       "    </tr>\n",
       "  </thead>\n",
       "  <tbody>\n",
       "    <tr>\n",
       "      <th>Sep 11, 2018</th>\n",
       "      <td>0.26425</td>\n",
       "      <td>0.26995</td>\n",
       "      <td>0.27500</td>\n",
       "      <td>0.25251</td>\n",
       "      <td>1.77M</td>\n",
       "      <td>-1.88%</td>\n",
       "    </tr>\n",
       "    <tr>\n",
       "      <th>Sep 12, 2018</th>\n",
       "      <td>0.27000</td>\n",
       "      <td>0.26425</td>\n",
       "      <td>0.27280</td>\n",
       "      <td>0.25300</td>\n",
       "      <td>2.22M</td>\n",
       "      <td>2.18%</td>\n",
       "    </tr>\n",
       "    <tr>\n",
       "      <th>Sep 13, 2018</th>\n",
       "      <td>0.27820</td>\n",
       "      <td>0.27000</td>\n",
       "      <td>0.28518</td>\n",
       "      <td>0.26703</td>\n",
       "      <td>2.17M</td>\n",
       "      <td>3.04%</td>\n",
       "    </tr>\n",
       "    <tr>\n",
       "      <th>Sep 14, 2018</th>\n",
       "      <td>0.27705</td>\n",
       "      <td>0.27820</td>\n",
       "      <td>0.28518</td>\n",
       "      <td>0.27203</td>\n",
       "      <td>2.43M</td>\n",
       "      <td>-0.41%</td>\n",
       "    </tr>\n",
       "    <tr>\n",
       "      <th>Sep 15, 2018</th>\n",
       "      <td>0.28120</td>\n",
       "      <td>0.27705</td>\n",
       "      <td>0.28423</td>\n",
       "      <td>0.27600</td>\n",
       "      <td>3.09M</td>\n",
       "      <td>1.50%</td>\n",
       "    </tr>\n",
       "  </tbody>\n",
       "</table>\n",
       "</div>"
      ],
      "text/plain": [
       "                Price     Open     High      Low   Vol. Change %\n",
       "Date                                                            \n",
       "Sep 11, 2018  0.26425  0.26995  0.27500  0.25251  1.77M   -1.88%\n",
       "Sep 12, 2018  0.27000  0.26425  0.27280  0.25300  2.22M    2.18%\n",
       "Sep 13, 2018  0.27820  0.27000  0.28518  0.26703  2.17M    3.04%\n",
       "Sep 14, 2018  0.27705  0.27820  0.28518  0.27203  2.43M   -0.41%\n",
       "Sep 15, 2018  0.28120  0.27705  0.28423  0.27600  3.09M    1.50%"
      ]
     },
     "execution_count": 398,
     "metadata": {},
     "output_type": "execute_result"
    }
   ],
   "source": [
    "df_xrp.tail()"
   ]
  },
  {
   "cell_type": "markdown",
   "metadata": {},
   "source": [
    "### The target it will be predicting the price on Sep 12 up to Sep 15, 2018"
   ]
  },
  {
   "cell_type": "code",
   "execution_count": 399,
   "metadata": {},
   "outputs": [],
   "source": [
    "df_xrp = pd.read_csv('XRP.csv', index_col='Date').loc[::-1].iloc[:-4,:]"
   ]
  },
  {
   "cell_type": "code",
   "execution_count": 400,
   "metadata": {},
   "outputs": [
    {
     "data": {
      "text/html": [
       "<div>\n",
       "<style>\n",
       "    .dataframe thead tr:only-child th {\n",
       "        text-align: right;\n",
       "    }\n",
       "\n",
       "    .dataframe thead th {\n",
       "        text-align: left;\n",
       "    }\n",
       "\n",
       "    .dataframe tbody tr th {\n",
       "        vertical-align: top;\n",
       "    }\n",
       "</style>\n",
       "<table border=\"1\" class=\"dataframe\">\n",
       "  <thead>\n",
       "    <tr style=\"text-align: right;\">\n",
       "      <th></th>\n",
       "      <th>Price</th>\n",
       "      <th>Open</th>\n",
       "      <th>High</th>\n",
       "      <th>Low</th>\n",
       "      <th>Vol.</th>\n",
       "      <th>Change %</th>\n",
       "    </tr>\n",
       "    <tr>\n",
       "      <th>Date</th>\n",
       "      <th></th>\n",
       "      <th></th>\n",
       "      <th></th>\n",
       "      <th></th>\n",
       "      <th></th>\n",
       "      <th></th>\n",
       "    </tr>\n",
       "  </thead>\n",
       "  <tbody>\n",
       "    <tr>\n",
       "      <th>Sep 07, 2018</th>\n",
       "      <td>0.28702</td>\n",
       "      <td>0.30135</td>\n",
       "      <td>0.30388</td>\n",
       "      <td>0.28027</td>\n",
       "      <td>2.71M</td>\n",
       "      <td>-4.76%</td>\n",
       "    </tr>\n",
       "    <tr>\n",
       "      <th>Sep 08, 2018</th>\n",
       "      <td>0.27735</td>\n",
       "      <td>0.28702</td>\n",
       "      <td>0.29346</td>\n",
       "      <td>0.26924</td>\n",
       "      <td>1.57M</td>\n",
       "      <td>-3.37%</td>\n",
       "    </tr>\n",
       "    <tr>\n",
       "      <th>Sep 09, 2018</th>\n",
       "      <td>0.27556</td>\n",
       "      <td>0.27735</td>\n",
       "      <td>0.29020</td>\n",
       "      <td>0.27100</td>\n",
       "      <td>1.72M</td>\n",
       "      <td>-0.64%</td>\n",
       "    </tr>\n",
       "    <tr>\n",
       "      <th>Sep 10, 2018</th>\n",
       "      <td>0.26930</td>\n",
       "      <td>0.27556</td>\n",
       "      <td>0.28196</td>\n",
       "      <td>0.25926</td>\n",
       "      <td>2.85M</td>\n",
       "      <td>-2.27%</td>\n",
       "    </tr>\n",
       "    <tr>\n",
       "      <th>Sep 11, 2018</th>\n",
       "      <td>0.26425</td>\n",
       "      <td>0.26995</td>\n",
       "      <td>0.27500</td>\n",
       "      <td>0.25251</td>\n",
       "      <td>1.77M</td>\n",
       "      <td>-1.88%</td>\n",
       "    </tr>\n",
       "  </tbody>\n",
       "</table>\n",
       "</div>"
      ],
      "text/plain": [
       "                Price     Open     High      Low   Vol. Change %\n",
       "Date                                                            \n",
       "Sep 07, 2018  0.28702  0.30135  0.30388  0.28027  2.71M   -4.76%\n",
       "Sep 08, 2018  0.27735  0.28702  0.29346  0.26924  1.57M   -3.37%\n",
       "Sep 09, 2018  0.27556  0.27735  0.29020  0.27100  1.72M   -0.64%\n",
       "Sep 10, 2018  0.26930  0.27556  0.28196  0.25926  2.85M   -2.27%\n",
       "Sep 11, 2018  0.26425  0.26995  0.27500  0.25251  1.77M   -1.88%"
      ]
     },
     "execution_count": 400,
     "metadata": {},
     "output_type": "execute_result"
    }
   ],
   "source": [
    "df_xrp.tail()"
   ]
  },
  {
   "cell_type": "markdown",
   "metadata": {},
   "source": [
    "# Training and test data"
   ]
  },
  {
   "cell_type": "code",
   "execution_count": 401,
   "metadata": {},
   "outputs": [],
   "source": [
    "X = df_xrp[['Open', 'High', 'Low']]"
   ]
  },
  {
   "cell_type": "code",
   "execution_count": 402,
   "metadata": {},
   "outputs": [],
   "source": [
    "y = df_xrp.Price"
   ]
  },
  {
   "cell_type": "code",
   "execution_count": 403,
   "metadata": {},
   "outputs": [],
   "source": [
    "X_train, X_test, y_train, y_test = train_test_split(X, y, test_size=0.3, random_state=42)"
   ]
  },
  {
   "cell_type": "markdown",
   "metadata": {},
   "source": [
    "## Plot price"
   ]
  },
  {
   "cell_type": "code",
   "execution_count": 409,
   "metadata": {
    "scrolled": false
   },
   "outputs": [
    {
     "data": {
      "image/png": "[encoded data removed]",
      "text/plain": [
       "<matplotlib.figure.Figure at 0x7fd5450fd898>"
      ]
     },
     "metadata": {},
     "output_type": "display_data"
    }
   ],
   "source": [
    "plt.figure(figsize=(16, 4))\n",
    "y.plot()\n",
    "plt.ylabel('USD')\n",
    "plt.title('Riple price')\n",
    "plt.show()"
   ]
  },
  {
   "cell_type": "markdown",
   "metadata": {},
   "source": [
    "# Model"
   ]
  },
  {
   "cell_type": "code",
   "execution_count": 350,
   "metadata": {},
   "outputs": [],
   "source": [
    "# Polynomial model degree 2\n",
    "model = make_pipeline(PolynomialFeatures(degree=2), Ridge())"
   ]
  },
  {
   "cell_type": "code",
   "execution_count": 351,
   "metadata": {
    "scrolled": true
   },
   "outputs": [
    {
     "data": {
      "text/plain": [
       "Pipeline(memory=None,\n",
       "     steps=[('polynomialfeatures', PolynomialFeatures(degree=2, include_bias=True, interaction_only=False)), ('ridge', Ridge(alpha=1.0, copy_X=True, fit_intercept=True, max_iter=None,\n",
       "   normalize=False, random_state=None, solver='auto', tol=0.001))])"
      ]
     },
     "execution_count": 351,
     "metadata": {},
     "output_type": "execute_result"
    }
   ],
   "source": [
    "model.fit(X_train, y_train)"
   ]
  },
  {
   "cell_type": "code",
   "execution_count": 352,
   "metadata": {},
   "outputs": [
    {
     "data": {
      "text/plain": [
       "0.99023995313163626"
      ]
     },
     "execution_count": 352,
     "metadata": {},
     "output_type": "execute_result"
    }
   ],
   "source": [
    "model.score(X_test, y_test)"
   ]
  },
  {
   "cell_type": "markdown",
   "metadata": {},
   "source": [
    "# Cross Validation"
   ]
  },
  {
   "cell_type": "code",
   "execution_count": 354,
   "metadata": {},
   "outputs": [],
   "source": [
    "from sklearn.model_selection import cross_val_score"
   ]
  },
  {
   "cell_type": "code",
   "execution_count": 355,
   "metadata": {},
   "outputs": [],
   "source": [
    "scores = cross_val_score(model, X, y, cv=5)"
   ]
  },
  {
   "cell_type": "code",
   "execution_count": 356,
   "metadata": {},
   "outputs": [
    {
     "data": {
      "text/plain": [
       "array([ 0.95340633,  0.94538683,  0.99018883,  0.9836242 ,  0.99003227])"
      ]
     },
     "execution_count": 356,
     "metadata": {},
     "output_type": "execute_result"
    }
   ],
   "source": [
    "scores"
   ]
  },
  {
   "cell_type": "code",
   "execution_count": 357,
   "metadata": {},
   "outputs": [
    {
     "name": "stdout",
     "output_type": "stream",
     "text": [
      "Scores mean: 0.972527691753775\n"
     ]
    }
   ],
   "source": [
    "print('Scores mean: {}'.format(np.mean(scores)))"
   ]
  },
  {
   "cell_type": "markdown",
   "metadata": {},
   "source": [
    "# Testing model Jun 01, 2018"
   ]
  },
  {
   "cell_type": "code",
   "execution_count": 410,
   "metadata": {},
   "outputs": [
    {
     "name": "stdout",
     "output_type": "stream",
     "text": [
      "Jun 01, 2018\n",
      "\n",
      "Real price: 0.622\n",
      "Predicted price: [ 0.61051195]\n"
     ]
    }
   ],
   "source": [
    "res = model.predict(np.array([[0.61240], [0.62381], [0.60500]]).T)\n",
    "print('Jun 01, 2018\\n')\n",
    "print('Real price: {}'.format(df_xrp.loc['Jun 01, 2018']['Price']))\n",
    "print('Predicted price: {}'.format(res))"
   ]
  },
  {
   "cell_type": "markdown",
   "metadata": {},
   "source": [
    "# Testing model for Sep 12 up to Sep 15, 2018"
   ]
  },
  {
   "cell_type": "code",
   "execution_count": 358,
   "metadata": {},
   "outputs": [],
   "source": [
    "X_test1 = pd.read_csv('XRP.csv', index_col='Date').iloc[: 4, 1: 4].loc[::-1]"
   ]
  },
  {
   "cell_type": "code",
   "execution_count": 359,
   "metadata": {
    "scrolled": true
   },
   "outputs": [
    {
     "data": {
      "text/html": [
       "<div>\n",
       "<style>\n",
       "    .dataframe thead tr:only-child th {\n",
       "        text-align: right;\n",
       "    }\n",
       "\n",
       "    .dataframe thead th {\n",
       "        text-align: left;\n",
       "    }\n",
       "\n",
       "    .dataframe tbody tr th {\n",
       "        vertical-align: top;\n",
       "    }\n",
       "</style>\n",
       "<table border=\"1\" class=\"dataframe\">\n",
       "  <thead>\n",
       "    <tr style=\"text-align: right;\">\n",
       "      <th></th>\n",
       "      <th>Open</th>\n",
       "      <th>High</th>\n",
       "      <th>Low</th>\n",
       "    </tr>\n",
       "    <tr>\n",
       "      <th>Date</th>\n",
       "      <th></th>\n",
       "      <th></th>\n",
       "      <th></th>\n",
       "    </tr>\n",
       "  </thead>\n",
       "  <tbody>\n",
       "    <tr>\n",
       "      <th>Sep 12, 2018</th>\n",
       "      <td>0.26425</td>\n",
       "      <td>0.27280</td>\n",
       "      <td>0.25300</td>\n",
       "    </tr>\n",
       "    <tr>\n",
       "      <th>Sep 13, 2018</th>\n",
       "      <td>0.27000</td>\n",
       "      <td>0.28518</td>\n",
       "      <td>0.26703</td>\n",
       "    </tr>\n",
       "    <tr>\n",
       "      <th>Sep 14, 2018</th>\n",
       "      <td>0.27820</td>\n",
       "      <td>0.28518</td>\n",
       "      <td>0.27203</td>\n",
       "    </tr>\n",
       "    <tr>\n",
       "      <th>Sep 15, 2018</th>\n",
       "      <td>0.27705</td>\n",
       "      <td>0.28423</td>\n",
       "      <td>0.27600</td>\n",
       "    </tr>\n",
       "  </tbody>\n",
       "</table>\n",
       "</div>"
      ],
      "text/plain": [
       "                 Open     High      Low\n",
       "Date                                   \n",
       "Sep 12, 2018  0.26425  0.27280  0.25300\n",
       "Sep 13, 2018  0.27000  0.28518  0.26703\n",
       "Sep 14, 2018  0.27820  0.28518  0.27203\n",
       "Sep 15, 2018  0.27705  0.28423  0.27600"
      ]
     },
     "execution_count": 359,
     "metadata": {},
     "output_type": "execute_result"
    }
   ],
   "source": [
    "X_test1"
   ]
  },
  {
   "cell_type": "code",
   "execution_count": 360,
   "metadata": {},
   "outputs": [],
   "source": [
    "real_price = pd.read_csv('XRP.csv', index_col='Date').iloc[: 4, : 1].loc[::-1]"
   ]
  },
  {
   "cell_type": "code",
   "execution_count": 361,
   "metadata": {},
   "outputs": [
    {
     "data": {
      "text/html": [
       "<div>\n",
       "<style>\n",
       "    .dataframe thead tr:only-child th {\n",
       "        text-align: right;\n",
       "    }\n",
       "\n",
       "    .dataframe thead th {\n",
       "        text-align: left;\n",
       "    }\n",
       "\n",
       "    .dataframe tbody tr th {\n",
       "        vertical-align: top;\n",
       "    }\n",
       "</style>\n",
       "<table border=\"1\" class=\"dataframe\">\n",
       "  <thead>\n",
       "    <tr style=\"text-align: right;\">\n",
       "      <th></th>\n",
       "      <th>Price</th>\n",
       "    </tr>\n",
       "    <tr>\n",
       "      <th>Date</th>\n",
       "      <th></th>\n",
       "    </tr>\n",
       "  </thead>\n",
       "  <tbody>\n",
       "    <tr>\n",
       "      <th>Sep 12, 2018</th>\n",
       "      <td>0.27000</td>\n",
       "    </tr>\n",
       "    <tr>\n",
       "      <th>Sep 13, 2018</th>\n",
       "      <td>0.27820</td>\n",
       "    </tr>\n",
       "    <tr>\n",
       "      <th>Sep 14, 2018</th>\n",
       "      <td>0.27705</td>\n",
       "    </tr>\n",
       "    <tr>\n",
       "      <th>Sep 15, 2018</th>\n",
       "      <td>0.28120</td>\n",
       "    </tr>\n",
       "  </tbody>\n",
       "</table>\n",
       "</div>"
      ],
      "text/plain": [
       "                Price\n",
       "Date                 \n",
       "Sep 12, 2018  0.27000\n",
       "Sep 13, 2018  0.27820\n",
       "Sep 14, 2018  0.27705\n",
       "Sep 15, 2018  0.28120"
      ]
     },
     "execution_count": 361,
     "metadata": {},
     "output_type": "execute_result"
    }
   ],
   "source": [
    "real_price"
   ]
  },
  {
   "cell_type": "code",
   "execution_count": 362,
   "metadata": {},
   "outputs": [
    {
     "name": "stdout",
     "output_type": "stream",
     "text": [
      "y predicted: [ 0.26496324  0.27678377  0.27957077  0.28023093]\n"
     ]
    }
   ],
   "source": [
    "y_predicted = model.predict(X_whished)\n",
    "print('y predicted: {}'.format(y_predicted))"
   ]
  },
  {
   "cell_type": "markdown",
   "metadata": {},
   "source": [
    "# Sep 16, 2018"
   ]
  },
  {
   "cell_type": "code",
   "execution_count": 363,
   "metadata": {},
   "outputs": [],
   "source": [
    "price_sep16 = model.predict(np.array([[0.28120], [0.28176], [0.27400]]).T)"
   ]
  },
  {
   "cell_type": "code",
   "execution_count": 364,
   "metadata": {},
   "outputs": [
    {
     "data": {
      "text/plain": [
       "array([ 0.27886365])"
      ]
     },
     "execution_count": 364,
     "metadata": {},
     "output_type": "execute_result"
    }
   ],
   "source": [
    "price_sep16"
   ]
  },
  {
   "cell_type": "code",
   "execution_count": null,
   "metadata": {},
   "outputs": [],
   "source": []
  }
 ],
 "metadata": {
  "kernelspec": {
   "display_name": "Python 3",
   "language": "python",
   "name": "python3"
  },
  "language_info": {
   "codemirror_mode": {
    "name": "ipython",
    "version": 3
   },
   "file_extension": ".py",
   "mimetype": "text/x-python",
   "name": "python",
   "nbconvert_exporter": "python",
   "pygments_lexer": "ipython3",
   "version": "3.5.2"
  }
 },
 "nbformat": 4,
 "nbformat_minor": 2
}
