{
 "cells": [
  {
   "cell_type": "markdown",
   "metadata": {},
   "source": [
    "### Modules"
   ]
  },
  {
   "cell_type": "code",
   "execution_count": 51,
   "metadata": {},
   "outputs": [],
   "source": [
    "import numpy as np\n",
    "from sklearn.linear_model import LinearRegression \n",
    "import matplotlib.pyplot as plt\n",
    "%matplotlib inline"
   ]
  },
  {
   "cell_type": "markdown",
   "metadata": {},
   "source": [
    "### Data"
   ]
  },
  {
   "cell_type": "code",
   "execution_count": 52,
   "metadata": {},
   "outputs": [],
   "source": [
    "price = [0.52812, 0.52898, 0.53394, 0.52807, 0.52757, 0.53320, 0.52954, 0.53303, 0.52216, 0.52548, 0.52379, 0.52000, 0.53191, 0.53732, 0.53687, 0.53495, 0.53495, 0.53602, 0.53455, 0.53337]"
   ]
  },
  {
   "cell_type": "code",
   "execution_count": 53,
   "metadata": {},
   "outputs": [],
   "source": [
    "Y = np.array(price)"
   ]
  },
  {
   "cell_type": "code",
   "execution_count": 54,
   "metadata": {},
   "outputs": [],
   "source": [
    "X = np.array([np.arange(0,len(Y))]).T"
   ]
  },
  {
   "cell_type": "code",
   "execution_count": 55,
   "metadata": {},
   "outputs": [
    {
     "name": "stdout",
     "output_type": "stream",
     "text": [
      "20 20\n"
     ]
    }
   ],
   "source": [
    "print(len(X), len(Y))"
   ]
  },
  {
   "cell_type": "markdown",
   "metadata": {},
   "source": [
    "### Apply Linear Regression model of SciKitLearn"
   ]
  },
  {
   "cell_type": "code",
   "execution_count": 56,
   "metadata": {},
   "outputs": [],
   "source": [
    "regression = LinearRegression()"
   ]
  },
  {
   "cell_type": "code",
   "execution_count": 57,
   "metadata": {},
   "outputs": [
    {
     "data": {
      "text/plain": [
       "LinearRegression(copy_X=True, fit_intercept=True, n_jobs=1, normalize=False)"
      ]
     },
     "execution_count": 57,
     "metadata": {},
     "output_type": "execute_result"
    }
   ],
   "source": [
    "regression.fit(X, Y)"
   ]
  },
  {
   "cell_type": "markdown",
   "metadata": {},
   "source": [
    "### Model"
   ]
  },
  {
   "cell_type": "code",
   "execution_count": 58,
   "metadata": {},
   "outputs": [
    {
     "data": {
      "text/plain": [
       "0.52733399999999997"
      ]
     },
     "execution_count": 58,
     "metadata": {},
     "output_type": "execute_result"
    }
   ],
   "source": [
    "regression.intercept_"
   ]
  },
  {
   "cell_type": "code",
   "execution_count": 59,
   "metadata": {},
   "outputs": [
    {
     "data": {
      "text/plain": [
       "array([ 0.00035337])"
      ]
     },
     "execution_count": 59,
     "metadata": {},
     "output_type": "execute_result"
    }
   ],
   "source": [
    "regression.coef_"
   ]
  },
  {
   "cell_type": "code",
   "execution_count": 60,
   "metadata": {
    "scrolled": true
   },
   "outputs": [
    {
     "data": {
      "text/plain": [
       "0.17227689412293767"
      ]
     },
     "execution_count": 60,
     "metadata": {},
     "output_type": "execute_result"
    }
   ],
   "source": [
    "regression.score(X, Y)"
   ]
  },
  {
   "cell_type": "markdown",
   "metadata": {},
   "source": [
    "##### So, Y = intercept_ + [(coef_)(X)]  and Adj. R-squared = score "
   ]
  },
  {
   "cell_type": "markdown",
   "metadata": {},
   "source": [
    "### Prediction for:"
   ]
  },
  {
   "cell_type": "code",
   "execution_count": 61,
   "metadata": {},
   "outputs": [
    {
     "data": {
      "text/plain": [
       "array([ 0.53440137])"
      ]
     },
     "execution_count": 61,
     "metadata": {},
     "output_type": "execute_result"
    }
   ],
   "source": [
    "regression.predict(20)"
   ]
  },
  {
   "cell_type": "markdown",
   "metadata": {},
   "source": [
    "### Statistics"
   ]
  },
  {
   "cell_type": "code",
   "execution_count": 62,
   "metadata": {},
   "outputs": [],
   "source": [
    "Y_predicted = regression.predict(X)"
   ]
  },
  {
   "cell_type": "code",
   "execution_count": 63,
   "metadata": {},
   "outputs": [
    {
     "data": {
      "text/plain": [
       "0.00039896533473684316"
      ]
     },
     "execution_count": 63,
     "metadata": {},
     "output_type": "execute_result"
    }
   ],
   "source": [
    "SSD = np.sum((Y - Y_predicted) ** 2) \n",
    "SSD"
   ]
  },
  {
   "cell_type": "markdown",
   "metadata": {},
   "source": [
    "Standard Desviation"
   ]
  },
  {
   "cell_type": "code",
   "execution_count": 64,
   "metadata": {},
   "outputs": [
    {
     "data": {
      "text/plain": [
       "0.0045823766227216017"
      ]
     },
     "execution_count": 64,
     "metadata": {},
     "output_type": "execute_result"
    }
   ],
   "source": [
    "RSE = np.sqrt(SSD / (len(X) - 1))\n",
    "RSE"
   ]
  },
  {
   "cell_type": "code",
   "execution_count": 65,
   "metadata": {},
   "outputs": [
    {
     "data": {
      "text/plain": [
       "0.53069100000000002"
      ]
     },
     "execution_count": 65,
     "metadata": {},
     "output_type": "execute_result"
    }
   ],
   "source": [
    "price_mean = np.mean(Y)\n",
    "price_mean"
   ]
  },
  {
   "cell_type": "code",
   "execution_count": 66,
   "metadata": {},
   "outputs": [
    {
     "data": {
      "text/plain": [
       "0.0086347358872142198"
      ]
     },
     "execution_count": 66,
     "metadata": {},
     "output_type": "execute_result"
    }
   ],
   "source": [
    "error = RSE / price_mean\n",
    "error"
   ]
  },
  {
   "cell_type": "markdown",
   "metadata": {},
   "source": [
    "#### Prediction at 8:00 pm"
   ]
  },
  {
   "cell_type": "code",
   "execution_count": 67,
   "metadata": {},
   "outputs": [],
   "source": [
    "at_8 = regression.predict(20)"
   ]
  },
  {
   "cell_type": "code",
   "execution_count": 68,
   "metadata": {},
   "outputs": [
    {
     "data": {
      "text/plain": [
       "(array([ 0.52981899]), array([ 0.53440137]), array([ 0.53898375]))"
      ]
     },
     "execution_count": 68,
     "metadata": {},
     "output_type": "execute_result"
    }
   ],
   "source": [
    "at_8 - RSE, at_8, at_8 + RSE"
   ]
  },
  {
   "cell_type": "markdown",
   "metadata": {},
   "source": [
    "* This was computed 1 hour before"
   ]
  },
  {
   "cell_type": "markdown",
   "metadata": {},
   "source": [
    "## *Real price = 0.53224*"
   ]
  },
  {
   "cell_type": "markdown",
   "metadata": {},
   "source": [
    "## Plots"
   ]
  },
  {
   "cell_type": "markdown",
   "metadata": {},
   "source": [
    "#### Linear regression model"
   ]
  },
  {
   "cell_type": "code",
   "execution_count": 69,
   "metadata": {
    "scrolled": true
   },
   "outputs": [
    {
     "data": {
      "image/png": "[encoded data removed]",
      "text/plain": [
       "<matplotlib.figure.Figure at 0x7f791fc9b5f8>"
      ]
     },
     "metadata": {},
     "output_type": "display_data"
    }
   ],
   "source": [
    "plt.figure(figsize=(8, 5))\n",
    "plt.scatter(X, Y, color='red', linewidths=4, alpha=0.6)\n",
    "plt.plot(X, Y_predicted)\n",
    "plt.title('Ripple vs USD')\n",
    "plt.xlabel('Hour')\n",
    "plt.ylabel('USD')\n",
    "plt.show()"
   ]
  },
  {
   "cell_type": "markdown",
   "metadata": {},
   "source": [
    "#### Linear Regression Squared Model\n",
    "\n",
    "* Y = a + (b)(X²)"
   ]
  },
  {
   "cell_type": "code",
   "execution_count": 70,
   "metadata": {},
   "outputs": [],
   "source": [
    "X2 = X ** 2"
   ]
  },
  {
   "cell_type": "code",
   "execution_count": 71,
   "metadata": {},
   "outputs": [],
   "source": [
    "regression2 = LinearRegression()"
   ]
  },
  {
   "cell_type": "code",
   "execution_count": 72,
   "metadata": {},
   "outputs": [
    {
     "data": {
      "text/plain": [
       "LinearRegression(copy_X=True, fit_intercept=True, n_jobs=1, normalize=False)"
      ]
     },
     "execution_count": 72,
     "metadata": {},
     "output_type": "execute_result"
    }
   ],
   "source": [
    "regression2.fit(X2, Y)"
   ]
  },
  {
   "cell_type": "code",
   "execution_count": 73,
   "metadata": {},
   "outputs": [
    {
     "data": {
      "text/plain": [
       "0.23787575063550037"
      ]
     },
     "execution_count": 73,
     "metadata": {},
     "output_type": "execute_result"
    }
   ],
   "source": [
    "regression2.score(X2, Y)"
   ]
  },
  {
   "cell_type": "code",
   "execution_count": 74,
   "metadata": {},
   "outputs": [],
   "source": [
    "Y_predicted2 = regression2.predict(X2)"
   ]
  },
  {
   "cell_type": "code",
   "execution_count": 75,
   "metadata": {},
   "outputs": [
    {
     "data": {
      "text/plain": [
       "(0.0003673464641736528,\n",
       " 0.0043970472399318446,\n",
       " 0.53069100000000002,\n",
       " 0.0082855131139059155)"
      ]
     },
     "execution_count": 75,
     "metadata": {},
     "output_type": "execute_result"
    }
   ],
   "source": [
    "SSD = np.sum((Y - Y_predicted2) ** 2) \n",
    "RSE = np.sqrt(SSD / (len(X2) - 1))\n",
    "price_mean = np.mean(Y)\n",
    "error = RSE / price_mean\n",
    "\n",
    "SSD, RSE, price_mean, error"
   ]
  },
  {
   "cell_type": "code",
   "execution_count": 86,
   "metadata": {},
   "outputs": [
    {
     "data": {
      "image/png": "[encoded data removed]",
      "text/plain": [
       "<matplotlib.figure.Figure at 0x7f791fcd76a0>"
      ]
     },
     "metadata": {},
     "output_type": "display_data"
    }
   ],
   "source": [
    "plt.figure(figsize=(8, 5))\n",
    "plt.scatter(X, Y, linewidths=4, alpha=0.6, color='red')\n",
    "plt.plot(X, Y_predicted2, linewidth=3)\n",
    "plt.title('Ripple vs USD')\n",
    "plt.xlabel('Hour')\n",
    "plt.ylabel('USD')\n",
    "plt.show()"
   ]
  },
  {
   "cell_type": "code",
   "execution_count": 126,
   "metadata": {},
   "outputs": [
    {
     "data": {
      "text/plain": [
       "(array([ 0.52503492]), array([ 0.52850752]), array([ 0.53198011]))"
      ]
     },
     "execution_count": 126,
     "metadata": {},
     "output_type": "execute_result"
    }
   ],
   "source": [
    "at_8 = regression2.predict(20)\n",
    "at_8 - RSE, at_8, at_8 + RSE"
   ]
  },
  {
   "cell_type": "markdown",
   "metadata": {},
   "source": [
    "#### Polynomials"
   ]
  },
  {
   "cell_type": "code",
   "execution_count": 88,
   "metadata": {},
   "outputs": [],
   "source": [
    "from sklearn.preprocessing import PolynomialFeatures\n",
    "from sklearn import linear_model"
   ]
  },
  {
   "cell_type": "code",
   "execution_count": 137,
   "metadata": {},
   "outputs": [],
   "source": [
    "poly = PolynomialFeatures(degree=6)"
   ]
  },
  {
   "cell_type": "code",
   "execution_count": 138,
   "metadata": {},
   "outputs": [],
   "source": [
    "X_poly = poly.fit_transform(X)"
   ]
  },
  {
   "cell_type": "code",
   "execution_count": 139,
   "metadata": {},
   "outputs": [],
   "source": [
    "regression3 = linear_model.LinearRegression()"
   ]
  },
  {
   "cell_type": "code",
   "execution_count": 140,
   "metadata": {},
   "outputs": [
    {
     "data": {
      "text/plain": [
       "LinearRegression(copy_X=True, fit_intercept=True, n_jobs=1, normalize=False)"
      ]
     },
     "execution_count": 140,
     "metadata": {},
     "output_type": "execute_result"
    }
   ],
   "source": [
    "regression3.fit(X_poly, Y)"
   ]
  },
  {
   "cell_type": "code",
   "execution_count": 141,
   "metadata": {},
   "outputs": [
    {
     "data": {
      "text/plain": [
       "0.61230208712731726"
      ]
     },
     "execution_count": 141,
     "metadata": {},
     "output_type": "execute_result"
    }
   ],
   "source": [
    "regression3.score(X_poly, Y)"
   ]
  },
  {
   "cell_type": "code",
   "execution_count": 142,
   "metadata": {},
   "outputs": [
    {
     "data": {
      "text/plain": [
       "(0.52901996323704048,\n",
       " array([  0.00000000e+00,  -3.35843426e-03,   3.37279633e-03,\n",
       "         -9.18068444e-04,   1.01106025e-04,  -4.85854943e-06,\n",
       "          8.50650042e-08]))"
      ]
     },
     "execution_count": 142,
     "metadata": {},
     "output_type": "execute_result"
    }
   ],
   "source": [
    "regression3.intercept_, regression3.coef_"
   ]
  },
  {
   "cell_type": "code",
   "execution_count": 143,
   "metadata": {},
   "outputs": [],
   "source": [
    "Y_predicted3 = regression3.predict(X_poly)"
   ]
  },
  {
   "cell_type": "code",
   "execution_count": 144,
   "metadata": {},
   "outputs": [
    {
     "data": {
      "text/plain": [
       "(0.00018687170442357919,\n",
       " 0.0031361366144348536,\n",
       " 0.53069100000000002,\n",
       " 0.005909534200570301)"
      ]
     },
     "execution_count": 144,
     "metadata": {},
     "output_type": "execute_result"
    }
   ],
   "source": [
    "SSD = np.sum((Y - Y_predicted3) ** 2) \n",
    "RSE = np.sqrt(SSD / (len(X2) - 1))\n",
    "price_mean = np.mean(Y)\n",
    "error = RSE / price_mean\n",
    "\n",
    "SSD, RSE, price_mean, error"
   ]
  },
  {
   "cell_type": "code",
   "execution_count": 145,
   "metadata": {},
   "outputs": [
    {
     "data": {
      "image/png": "[encoded data removed]",
      "text/plain": [
       "<matplotlib.figure.Figure at 0x7f791f3b8d30>"
      ]
     },
     "metadata": {},
     "output_type": "display_data"
    }
   ],
   "source": [
    "plt.figure(figsize=(8, 5))\n",
    "plt.scatter(X, Y, linewidths=4, alpha=0.6, color='red')\n",
    "plt.plot(X, Y_predicted3, linewidth=2)\n",
    "plt.title('Ripple vs USD')\n",
    "plt.xlabel('Hour')\n",
    "plt.ylabel('USD')\n",
    "plt.show()"
   ]
  },
  {
   "cell_type": "code",
   "execution_count": 174,
   "metadata": {},
   "outputs": [
    {
     "data": {
      "text/plain": [
       "(array([ 0.53705217]), array([ 0.54018831]), array([ 0.54332445]))"
      ]
     },
     "execution_count": 174,
     "metadata": {},
     "output_type": "execute_result"
    }
   ],
   "source": [
    "at_8 = regression3.predict(np.array([[1.00000000e+00],   [2.00000000e+01],   [4.00000000e+02], [8.00000000e+03],   [1.60000000e+05],   [3.20000000e+06], [6.40000000e+07]]).T)\n",
    "at_8 - RSE, at_8, at_8 + RSE"
   ]
  },
  {
   "cell_type": "markdown",
   "metadata": {},
   "source": [
    "## Test plot"
   ]
  },
  {
   "cell_type": "code",
   "execution_count": 166,
   "metadata": {},
   "outputs": [],
   "source": [
    "X_test = poly.fit_transform(np.array([np.arange(0,len(Y)+1)]).T)"
   ]
  },
  {
   "cell_type": "code",
   "execution_count": 167,
   "metadata": {},
   "outputs": [],
   "source": [
    "Y_predicted4 = regression3.predict(X_test)"
   ]
  },
  {
   "cell_type": "code",
   "execution_count": 168,
   "metadata": {},
   "outputs": [],
   "source": [
    "X_plot = np.array([np.arange(0,len(Y)+1)]).T"
   ]
  },
  {
   "cell_type": "code",
   "execution_count": 170,
   "metadata": {},
   "outputs": [
    {
     "data": {
      "image/png": "[encoded data removed]",
      "text/plain": [
       "<matplotlib.figure.Figure at 0x7f791f336b00>"
      ]
     },
     "metadata": {},
     "output_type": "display_data"
    }
   ],
   "source": [
    "plt.figure(figsize=(8, 5))\n",
    "plt.scatter(X, Y, linewidths=4, alpha=0.6, color='red')\n",
    "plt.plot(X_plot, Y_predicted4, linewidth=2)\n",
    "plt.title('Ripple vs USD')\n",
    "plt.xlabel('Hour')\n",
    "plt.ylabel('USD')\n",
    "plt.grid(True)\n",
    "plt.show()"
   ]
  },
  {
   "cell_type": "code",
   "execution_count": 171,
   "metadata": {},
   "outputs": [
    {
     "data": {
      "text/plain": [
       "array([[ 0],\n",
       "       [ 1],\n",
       "       [ 2],\n",
       "       [ 3],\n",
       "       [ 4],\n",
       "       [ 5],\n",
       "       [ 6],\n",
       "       [ 7],\n",
       "       [ 8],\n",
       "       [ 9],\n",
       "       [10],\n",
       "       [11],\n",
       "       [12],\n",
       "       [13],\n",
       "       [14],\n",
       "       [15],\n",
       "       [16],\n",
       "       [17],\n",
       "       [18],\n",
       "       [19],\n",
       "       [20]])"
      ]
     },
     "execution_count": 171,
     "metadata": {},
     "output_type": "execute_result"
    }
   ],
   "source": [
    "X_plot"
   ]
  },
  {
   "cell_type": "code",
   "execution_count": 172,
   "metadata": {},
   "outputs": [
    {
     "data": {
      "text/plain": [
       "array([[  1.00000000e+00,   0.00000000e+00,   0.00000000e+00,\n",
       "          0.00000000e+00,   0.00000000e+00,   0.00000000e+00,\n",
       "          0.00000000e+00],\n",
       "       [  1.00000000e+00,   1.00000000e+00,   1.00000000e+00,\n",
       "          1.00000000e+00,   1.00000000e+00,   1.00000000e+00,\n",
       "          1.00000000e+00],\n",
       "       [  1.00000000e+00,   2.00000000e+00,   4.00000000e+00,\n",
       "          8.00000000e+00,   1.60000000e+01,   3.20000000e+01,\n",
       "          6.40000000e+01],\n",
       "       [  1.00000000e+00,   3.00000000e+00,   9.00000000e+00,\n",
       "          2.70000000e+01,   8.10000000e+01,   2.43000000e+02,\n",
       "          7.29000000e+02],\n",
       "       [  1.00000000e+00,   4.00000000e+00,   1.60000000e+01,\n",
       "          6.40000000e+01,   2.56000000e+02,   1.02400000e+03,\n",
       "          4.09600000e+03],\n",
       "       [  1.00000000e+00,   5.00000000e+00,   2.50000000e+01,\n",
       "          1.25000000e+02,   6.25000000e+02,   3.12500000e+03,\n",
       "          1.56250000e+04],\n",
       "       [  1.00000000e+00,   6.00000000e+00,   3.60000000e+01,\n",
       "          2.16000000e+02,   1.29600000e+03,   7.77600000e+03,\n",
       "          4.66560000e+04],\n",
       "       [  1.00000000e+00,   7.00000000e+00,   4.90000000e+01,\n",
       "          3.43000000e+02,   2.40100000e+03,   1.68070000e+04,\n",
       "          1.17649000e+05],\n",
       "       [  1.00000000e+00,   8.00000000e+00,   6.40000000e+01,\n",
       "          5.12000000e+02,   4.09600000e+03,   3.27680000e+04,\n",
       "          2.62144000e+05],\n",
       "       [  1.00000000e+00,   9.00000000e+00,   8.10000000e+01,\n",
       "          7.29000000e+02,   6.56100000e+03,   5.90490000e+04,\n",
       "          5.31441000e+05],\n",
       "       [  1.00000000e+00,   1.00000000e+01,   1.00000000e+02,\n",
       "          1.00000000e+03,   1.00000000e+04,   1.00000000e+05,\n",
       "          1.00000000e+06],\n",
       "       [  1.00000000e+00,   1.10000000e+01,   1.21000000e+02,\n",
       "          1.33100000e+03,   1.46410000e+04,   1.61051000e+05,\n",
       "          1.77156100e+06],\n",
       "       [  1.00000000e+00,   1.20000000e+01,   1.44000000e+02,\n",
       "          1.72800000e+03,   2.07360000e+04,   2.48832000e+05,\n",
       "          2.98598400e+06],\n",
       "       [  1.00000000e+00,   1.30000000e+01,   1.69000000e+02,\n",
       "          2.19700000e+03,   2.85610000e+04,   3.71293000e+05,\n",
       "          4.82680900e+06],\n",
       "       [  1.00000000e+00,   1.40000000e+01,   1.96000000e+02,\n",
       "          2.74400000e+03,   3.84160000e+04,   5.37824000e+05,\n",
       "          7.52953600e+06],\n",
       "       [  1.00000000e+00,   1.50000000e+01,   2.25000000e+02,\n",
       "          3.37500000e+03,   5.06250000e+04,   7.59375000e+05,\n",
       "          1.13906250e+07],\n",
       "       [  1.00000000e+00,   1.60000000e+01,   2.56000000e+02,\n",
       "          4.09600000e+03,   6.55360000e+04,   1.04857600e+06,\n",
       "          1.67772160e+07],\n",
       "       [  1.00000000e+00,   1.70000000e+01,   2.89000000e+02,\n",
       "          4.91300000e+03,   8.35210000e+04,   1.41985700e+06,\n",
       "          2.41375690e+07],\n",
       "       [  1.00000000e+00,   1.80000000e+01,   3.24000000e+02,\n",
       "          5.83200000e+03,   1.04976000e+05,   1.88956800e+06,\n",
       "          3.40122240e+07],\n",
       "       [  1.00000000e+00,   1.90000000e+01,   3.61000000e+02,\n",
       "          6.85900000e+03,   1.30321000e+05,   2.47609900e+06,\n",
       "          4.70458810e+07],\n",
       "       [  1.00000000e+00,   2.00000000e+01,   4.00000000e+02,\n",
       "          8.00000000e+03,   1.60000000e+05,   3.20000000e+06,\n",
       "          6.40000000e+07]])"
      ]
     },
     "execution_count": 172,
     "metadata": {},
     "output_type": "execute_result"
    }
   ],
   "source": [
    "X_test"
   ]
  },
  {
   "cell_type": "code",
   "execution_count": null,
   "metadata": {},
   "outputs": [],
   "source": []
  }
 ],
 "metadata": {
  "kernelspec": {
   "display_name": "Python 3",
   "language": "python",
   "name": "python3"
  },
  "language_info": {
   "codemirror_mode": {
    "name": "ipython",
    "version": 3
   },
   "file_extension": ".py",
   "mimetype": "text/x-python",
   "name": "python",
   "nbconvert_exporter": "python",
   "pygments_lexer": "ipython3",
   "version": "3.5.2"
  }
 },
 "nbformat": 4,
 "nbformat_minor": 2
}
